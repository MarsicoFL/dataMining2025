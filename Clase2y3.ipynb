{
  "nbformat": 4,
  "nbformat_minor": 0,
  "metadata": {
    "colab": {
      "provenance": []
    },
    "kernelspec": {
      "name": "ir",
      "display_name": "R"
    },
    "language_info": {
      "name": "R"
    }
  },
  "cells": [
    {
      "cell_type": "markdown",
      "source": [
        "# 1. Introducción a R\n",
        "\n",
        "Antes de adentrarnos en los problemas estadísticos relacionados con bases de datos genéticas, vamos a revisar algunos conceptos básicos de R.\n",
        "\n",
        "## 1.1 Operaciones básicas en R\n",
        "\n",
        "R es un lenguaje de programación especializado en análisis estadístico. Veamos algunas operaciones básicas:\n"
      ],
      "metadata": {
        "id": "g820GqRaXbQa"
      }
    },
    {
      "cell_type": "code",
      "execution_count": null,
      "metadata": {
        "colab": {
          "base_uri": "https://localhost:8080/"
        },
        "id": "qcvvZmP8XXuY",
        "outputId": "a63d512e-2903-4eae-b765-e3691ff9bf98"
      },
      "outputs": [
        {
          "output_type": "stream",
          "name": "stdout",
          "text": [
            "a = 5 \n",
            "b = 10 \n",
            "Suma (a + b) = 15 \n",
            "Resta (a - b) = -5 \n",
            "Producto (a * b) = 50 \n",
            "División (a / b) = 0.5 \n"
          ]
        }
      ],
      "source": [
        "# Asignación de valores a variables\n",
        "a <- 5\n",
        "b <- 10\n",
        "\n",
        "# Operaciones aritméticas\n",
        "suma <- a + b\n",
        "resta <- a - b\n",
        "producto <- a * b\n",
        "division <- a / b\n",
        "\n",
        "# Mostrar resultados\n",
        "cat(\"a =\", a, \"\\n\")\n",
        "cat(\"b =\", b, \"\\n\")\n",
        "cat(\"Suma (a + b) =\", suma, \"\\n\")\n",
        "cat(\"Resta (a - b) =\", resta, \"\\n\")\n",
        "cat(\"Producto (a * b) =\", producto, \"\\n\")\n",
        "cat(\"División (a / b) =\", division, \"\\n\")\n"
      ]
    },
    {
      "cell_type": "markdown",
      "source": [
        "## 1.2 Vectores en R\n",
        "\n",
        "Los vectores son una estructura fundamental en R. Consisten en una serie de valores del mismo tipo:\n",
        "\n"
      ],
      "metadata": {
        "id": "gE4BLFQMXk6W"
      }
    },
    {
      "cell_type": "code",
      "source": [
        "# Crear vectores\n",
        "numeros <- c(5, 10, 15, 20, 25)\n",
        "nombres <- c(\"Ana\", \"Juan\", \"Carlos\", \"María\")\n",
        "\n",
        "# Mostrar vectores\n",
        "cat(\"Vector de números:\", numeros, \"\\n\")\n",
        "cat(\"Vector de nombres:\", nombres, \"\\n\")\n",
        "\n",
        "# Acceder a elementos específicos\n",
        "cat(\"Primer número:\", numeros[1], \"\\n\")\n",
        "cat(\"Segundo nombre:\", nombres[2], \"\\n\")\n",
        "\n",
        "# Operaciones con vectores\n",
        "numeros_dobles <- numeros * 2\n",
        "cat(\"Números multiplicados por 2:\", numeros_dobles, \"\\n\")\n",
        "\n",
        "# Estadísticas básicas\n",
        "cat(\"Suma de números:\", sum(numeros), \"\\n\")\n",
        "cat(\"Promedio de números:\", mean(numeros), \"\\n\")\n",
        "cat(\"Valor mínimo:\", min(numeros), \"\\n\")\n",
        "cat(\"Valor máximo:\", max(numeros), \"\\n\")\n"
      ],
      "metadata": {
        "colab": {
          "base_uri": "https://localhost:8080/"
        },
        "id": "OaNUK7raXp_e",
        "outputId": "d499bf41-a4bb-4044-fcfb-e23a244824e9"
      },
      "execution_count": null,
      "outputs": [
        {
          "output_type": "stream",
          "name": "stdout",
          "text": [
            "Vector de números: 5 10 15 20 25 \n",
            "Vector de nombres: Ana Juan Carlos María \n",
            "Primer número: 5 \n",
            "Segundo nombre: Juan \n",
            "Números multiplicados por 2: 10 20 30 40 50 \n",
            "Suma de números: 75 \n",
            "Promedio de números: 15 \n",
            "Valor mínimo: 5 \n",
            "Valor máximo: 25 \n"
          ]
        }
      ]
    },
    {
      "cell_type": "markdown",
      "source": [
        "## 1.3 Funciones en R\n",
        "\n",
        "Las funciones nos permiten agrupar instrucciones para realizar tareas específicas:\n"
      ],
      "metadata": {
        "id": "-kEWTe65XrJ5"
      }
    },
    {
      "cell_type": "code",
      "source": [
        "# Definir una función simple\n",
        "mi_suma <- function(x, y) {\n",
        "  resultado <- x + y\n",
        "  return(resultado)\n",
        "}\n",
        "\n",
        "# Usar la función\n",
        "cat(\"Suma de 15 y 25:\", mi_suma(15, 25), \"\\n\")\n",
        "\n",
        "# Función con valor por defecto\n",
        "saludar <- function(nombre = \"Estudiante\") {\n",
        "  mensaje <- paste(\"Hola,\", nombre)\n",
        "  return(mensaje)\n",
        "}\n",
        "\n",
        "cat(saludar(), \"\\n\")\n",
        "cat(saludar(\"María\"), \"\\n\")\n"
      ],
      "metadata": {
        "colab": {
          "base_uri": "https://localhost:8080/"
        },
        "id": "GoG8bZOSXst8",
        "outputId": "6ab81408-afd6-479a-c212-04067fe64209"
      },
      "execution_count": null,
      "outputs": [
        {
          "output_type": "stream",
          "name": "stdout",
          "text": [
            "Suma de 15 y 25: 40 \n",
            "Hola, Estudiante \n",
            "Hola, María \n"
          ]
        }
      ]
    },
    {
      "cell_type": "markdown",
      "source": [
        "## 1.4 Data frames\n",
        "\n",
        "Los data frames son similares a tablas o hojas de cálculo. Son la estructura más común para análisis de datos:\n"
      ],
      "metadata": {
        "id": "EXDGBeu6XvpU"
      }
    },
    {
      "cell_type": "code",
      "source": [
        "# Crear un data frame\n",
        "nombres <- c(\"Ana\", \"Juan\", \"Carlos\", \"María\", \"Pedro\")\n",
        "edades <- c(28, 35, 42, 31, 25)\n",
        "ciudades <- c(\"Madrid\", \"Barcelona\", \"Sevilla\", \"Valencia\", \"Madrid\")\n",
        "\n",
        "personas <- data.frame(\n",
        "  Nombre = nombres,\n",
        "  Edad = edades,\n",
        "  Ciudad = ciudades\n",
        ")\n",
        "\n",
        "# Mostrar el data frame\n",
        "print(personas)\n",
        "\n",
        "# Acceder a una columna\n",
        "cat(\"\\nEdades de todas las personas:\\n\")\n",
        "print(personas$Edad)\n",
        "\n",
        "# Acceder a una fila\n",
        "cat(\"\\nDatos de la primera persona:\\n\")\n",
        "print(personas[1, ])\n",
        "\n",
        "# Filtrar datos\n",
        "cat(\"\\nPersonas de Madrid:\\n\")\n",
        "print(personas[personas$Ciudad == \"Madrid\", ])\n",
        "\n",
        "# Estadísticas básicas\n",
        "cat(\"\\nEdad promedio:\", mean(personas$Edad), \"\\n\")\n",
        "cat(\"Ciudades de residencia:\\n\")\n",
        "print(table(personas$Ciudad))\n"
      ],
      "metadata": {
        "colab": {
          "base_uri": "https://localhost:8080/"
        },
        "id": "f0XGf79KXxMI",
        "outputId": "315b0534-10fd-4bce-e6ae-192bf38a47d5"
      },
      "execution_count": null,
      "outputs": [
        {
          "output_type": "stream",
          "name": "stdout",
          "text": [
            "  Nombre Edad    Ciudad\n",
            "1    Ana   28    Madrid\n",
            "2   Juan   35 Barcelona\n",
            "3 Carlos   42   Sevilla\n",
            "4  María   31  Valencia\n",
            "5  Pedro   25    Madrid\n",
            "\n",
            "Edades de todas las personas:\n",
            "[1] 28 35 42 31 25\n",
            "\n",
            "Datos de la primera persona:\n",
            "  Nombre Edad Ciudad\n",
            "1    Ana   28 Madrid\n",
            "\n",
            "Personas de Madrid:\n",
            "  Nombre Edad Ciudad\n",
            "1    Ana   28 Madrid\n",
            "5  Pedro   25 Madrid\n",
            "\n",
            "Edad promedio: 32.2 \n",
            "Ciudades de residencia:\n",
            "\n",
            "Barcelona    Madrid   Sevilla  Valencia \n",
            "        1         2         1         1 \n"
          ]
        }
      ]
    },
    {
      "cell_type": "markdown",
      "source": [
        "# 2. Conceptos Básicos de Datos Genéticos para Científicos de Datos\n"
      ],
      "metadata": {
        "id": "7Yzz1VR4X0KP"
      }
    },
    {
      "cell_type": "markdown",
      "source": [
        "## 2.1 ¿Qué son los marcadores genéticos?\n",
        "\n",
        "Para entender los problemas estadísticos en bases de datos genéticas, primero debemos comprender algunos conceptos básicos. No te preocupes, los explicaremos de manera sencilla:\n",
        "\n",
        "* Un **marcador genético** es como un \"punto de referencia\" en el ADN que varía entre individuos.\n",
        "* Cada persona tiene dos copias de cada marcador (uno heredado de la madre y otro del padre).\n",
        "* Cada variante posible de un marcador se llama **alelo**.\n",
        "* Los marcadores STR (Short Tandem Repeats) son comúnmente usados en identificación genética.\n",
        "\n",
        "Vamos a simular un ejemplo simple:\n"
      ],
      "metadata": {
        "id": "SwKCuGGXX6bI"
      }
    },
    {
      "cell_type": "code",
      "source": [
        "# Supongamos que estamos analizando uno de estos marcadores llamado \"D1\"\n",
        "# Las posibles variantes (alelos) son 10, 11, 12, 13 y 14\n",
        "\n",
        "# Creamos algunos perfiles genéticos de ejemplo\n",
        "persona1 <- c(\"10\", \"12\")  # Esta persona tiene los alelos 10 y 12\n",
        "persona2 <- c(\"11\", \"13\")\n",
        "persona3 <- c(\"12\", \"12\")  # Esta persona tiene dos copias del alelo 12\n",
        "\n",
        "# Mostramos los perfiles\n",
        "cat(\"Marcador D1 para Persona 1:\", persona1[1], \"y\", persona1[2], \"\\n\")\n",
        "cat(\"Marcador D1 para Persona 2:\", persona2[1], \"y\", persona2[2], \"\\n\")\n",
        "cat(\"Marcador D1 para Persona 3:\", persona3[1], \"y\", persona3[2], \"(homocigoto)\\n\")\n"
      ],
      "metadata": {
        "colab": {
          "base_uri": "https://localhost:8080/"
        },
        "id": "K5jVvvZlX5h-",
        "outputId": "05b00ce0-e1ff-4929-db52-c7483ced10a4"
      },
      "execution_count": null,
      "outputs": [
        {
          "output_type": "stream",
          "name": "stdout",
          "text": [
            "Marcador D1 para Persona 1: 10 y 12 \n",
            "Marcador D1 para Persona 2: 11 y 13 \n",
            "Marcador D1 para Persona 3: 12 y 12 (homocigoto)\n"
          ]
        }
      ]
    },
    {
      "cell_type": "markdown",
      "source": [
        "**Explicación:** Cada persona tiene dos alelos para cada marcador. Cuando los dos alelos son iguales (como en la Persona 3), se llama \"homocigoto\". Cuando son diferentes (como en las Personas 1 y 2), se llama \"heterocigoto\".\n"
      ],
      "metadata": {
        "id": "kwKhE9cNX_VL"
      }
    },
    {
      "cell_type": "markdown",
      "source": [
        "## 2.2 Frecuencias alélicas\n",
        "Las **frecuencias alélicas** son simplemente la proporción de cada alelo en una población. Estas frecuencias son fundamentales para los cálculos estadísticos:\n"
      ],
      "metadata": {
        "id": "yNLUIO4OYA0Q"
      }
    },
    {
      "cell_type": "code",
      "source": [
        "# Frecuencias de los alelos en nuestra población de ejemplo\n",
        "alelos <- c(\"10\", \"11\", \"12\", \"13\", \"14\")\n",
        "frecuencias <- c(0.1, 0.2, 0.4, 0.2, 0.1)\n",
        "names(frecuencias) <- alelos\n",
        "\n",
        "# Mostrar las frecuencias\n",
        "cat(\"Frecuencias alélicas para el marcador D1:\\n\")\n",
        "for (i in 1:length(alelos)) {\n",
        "  cat(\"Alelo\", alelos[i], \":\", frecuencias[i], \"\\n\")\n",
        "}\n",
        "\n",
        "cat(\"\\nVerificación: la suma de todas las frecuencias debe ser 1 =\", sum(frecuencias), \"\\n\")\n"
      ],
      "metadata": {
        "colab": {
          "base_uri": "https://localhost:8080/"
        },
        "id": "JMStMZ1WX1mj",
        "outputId": "ced26a8e-1f30-441e-ce63-f20e30be095e"
      },
      "execution_count": null,
      "outputs": [
        {
          "output_type": "stream",
          "name": "stdout",
          "text": [
            "Frecuencias alélicas para el marcador D1:\n",
            "Alelo 10 : 0.1 \n",
            "Alelo 11 : 0.2 \n",
            "Alelo 12 : 0.4 \n",
            "Alelo 13 : 0.2 \n",
            "Alelo 14 : 0.1 \n",
            "\n",
            "Verificación: la suma de todas las frecuencias debe ser 1 = 1 \n"
          ]
        }
      ]
    },
    {
      "cell_type": "markdown",
      "source": [
        "**Explicación:** Las frecuencias alélicas nos dicen qué tan común es cada alelo. En nuestro ejemplo, el alelo 12 es el más común (40% de la población lo tiene), mientras que los alelos 10 y 14 son los más raros (solo 10% cada uno).\n"
      ],
      "metadata": {
        "id": "TP85BUp2YG9s"
      }
    },
    {
      "cell_type": "markdown",
      "source": [
        "## 2.3 Probabilidad de coincidencia aleatoria (RMP)\n",
        "\n",
        "La **Probabilidad de coincidencia aleatoria** (RMP, por sus siglas en inglés) es la probabilidad de que dos personas no relacionadas tengan el mismo perfil genético por casualidad.\n",
        "\n",
        "Vamos a calcular esta probabilidad para genotipos simples:\n"
      ],
      "metadata": {
        "id": "j_8TnTqEYIJh"
      }
    },
    {
      "cell_type": "code",
      "source": [
        "# Función para calcular RMP para un marcador\n",
        "calcular_rmp <- function(alelo1, alelo2, frecuencias) {\n",
        "  # Obtener las frecuencias\n",
        "  p <- frecuencias[alelo1]\n",
        "  q <- frecuencias[alelo2]\n",
        "\n",
        "  # Si es homocigoto (ambos alelos iguales)\n",
        "  if (alelo1 == alelo2) {\n",
        "    rmp <- p * p  # Formula: p²\n",
        "  } else {\n",
        "    # Si es heterocigoto (alelos diferentes)\n",
        "    rmp <- 2 * p * q  # Formula: 2pq\n",
        "  }\n",
        "\n",
        "  return(rmp)\n",
        "}\n",
        "\n",
        "# Calcular RMP para diferentes genotipos\n",
        "genotipos <- list(\n",
        "  c(\"10\", \"10\"),  # Homocigoto raro\n",
        "  c(\"12\", \"12\"),  # Homocigoto común\n",
        "  c(\"10\", \"14\"),  # Heterocigoto con alelos raros\n",
        "  c(\"11\", \"13\")   # Heterocigoto con alelos moderados\n",
        ")\n",
        "\n",
        "# Mostrar resultados\n",
        "cat(\"Probabilidad de coincidencia aleatoria (RMP) para diferentes genotipos:\\n\\n\")\n",
        "\n",
        "for (i in 1:length(genotipos)) {\n",
        "  genotipo <- genotipos[[i]]\n",
        "  alelo1 <- genotipo[1]\n",
        "  alelo2 <- genotipo[2]\n",
        "\n",
        "  rmp <- calcular_rmp(alelo1, alelo2, frecuencias)\n",
        "\n",
        "  cat(\"Genotipo\", paste(alelo1, alelo2, sep=\",\"), \":\\n\")\n",
        "  cat(\"- RMP =\", rmp, \"\\n\")\n",
        "  cat(\"- Expresado como 1 en\", round(1/rmp), \"\\n\")\n",
        "  cat(\"- Interpretación: La probabilidad de que una persona seleccionada al azar\")\n",
        "  cat(\"\\n  tenga este genotipo es de\", rmp, \"\\n\\n\")\n",
        "}\n"
      ],
      "metadata": {
        "colab": {
          "base_uri": "https://localhost:8080/"
        },
        "id": "gIQpidVFYJ2m",
        "outputId": "31704c14-288f-4f37-d7c1-e0f1e8a1336c"
      },
      "execution_count": null,
      "outputs": [
        {
          "output_type": "stream",
          "name": "stdout",
          "text": [
            "Probabilidad de coincidencia aleatoria (RMP) para diferentes genotipos:\n",
            "\n",
            "Genotipo 10,10 :\n",
            "- RMP = 0.01 \n",
            "- Expresado como 1 en 100 \n",
            "- Interpretación: La probabilidad de que una persona seleccionada al azar\n",
            "  tenga este genotipo es de 0.01 \n",
            "\n",
            "Genotipo 12,12 :\n",
            "- RMP = 0.16 \n",
            "- Expresado como 1 en 6 \n",
            "- Interpretación: La probabilidad de que una persona seleccionada al azar\n",
            "  tenga este genotipo es de 0.16 \n",
            "\n",
            "Genotipo 10,14 :\n",
            "- RMP = 0.02 \n",
            "- Expresado como 1 en 50 \n",
            "- Interpretación: La probabilidad de que una persona seleccionada al azar\n",
            "  tenga este genotipo es de 0.02 \n",
            "\n",
            "Genotipo 11,13 :\n",
            "- RMP = 0.08 \n",
            "- Expresado como 1 en 12 \n",
            "- Interpretación: La probabilidad de que una persona seleccionada al azar\n",
            "  tenga este genotipo es de 0.08 \n",
            "\n"
          ]
        }
      ]
    },
    {
      "cell_type": "markdown",
      "source": [
        "**Explicación detallada:**\n",
        "\n",
        "1. Para un homocigoto (dos copias del mismo alelo), la fórmula es p², donde p es la frecuencia del alelo.\n",
        "   - Por ejemplo, para el genotipo (10,10), calculamos 0.1² = 0.01\n",
        "\n",
        "2. Para un heterocigoto (dos alelos diferentes), la fórmula es 2pq, donde p y q son las frecuencias de los dos alelos.\n",
        "   - Por ejemplo, para el genotipo (10,14), calculamos 2 × 0.1 × 0.1 = 0.02\n",
        "\n",
        "3. Los genotipos con alelos más raros tienen menor RMP, lo que significa que son más distintivos (menos probabilidad de coincidencia por azar).\n"
      ],
      "metadata": {
        "id": "hR0UdZCYYNcS"
      }
    },
    {
      "cell_type": "markdown",
      "source": [
        "## 2.4 RMP para múltiples marcadores\n",
        "\n",
        "En la práctica, no usamos un solo marcador sino varios (típicamente 20 o más). La RMP combinada se calcula multiplicando las RMPs individuales de cada marcador:\n"
      ],
      "metadata": {
        "id": "waN9tJsjYRII"
      }
    },
    {
      "cell_type": "code",
      "source": [
        "# Definir frecuencias para 3 marcadores diferentes\n",
        "# Marcador D1 (el que venimos usando)\n",
        "frec_D1 <- c(\"10\" = 0.1, \"11\" = 0.2, \"12\" = 0.4, \"13\" = 0.2, \"14\" = 0.1)\n",
        "\n",
        "# Marcador D2 (otro marcador de ejemplo)\n",
        "frec_D2 <- c(\"7\" = 0.2, \"8\" = 0.3, \"9\" = 0.3, \"10\" = 0.1, \"11\" = 0.1)\n",
        "\n",
        "# Marcador D3 (tercer marcador de ejemplo)\n",
        "frec_D3 <- c(\"14\" = 0.1, \"15\" = 0.2, \"16\" = 0.4, \"17\" = 0.2, \"18\" = 0.1)\n",
        "\n",
        "# Perfil genético de una persona para los tres marcadores\n",
        "perfil <- list(\n",
        "  D1 = c(\"11\", \"12\"),\n",
        "  D2 = c(\"8\", \"9\"),\n",
        "  D3 = c(\"16\", \"17\")\n",
        ")\n",
        "\n",
        "# Calcular RMP para cada marcador\n",
        "rmp_D1 <- calcular_rmp(perfil$D1[1], perfil$D1[2], frec_D1)\n",
        "rmp_D2 <- calcular_rmp(perfil$D2[1], perfil$D2[2], frec_D2)\n",
        "rmp_D3 <- calcular_rmp(perfil$D3[1], perfil$D3[2], frec_D3)\n",
        "\n",
        "# Mostrar resultados individuales\n",
        "cat(\"Perfil genético de la persona:\\n\")\n",
        "cat(\"- Marcador D1:\", perfil$D1[1], \",\", perfil$D1[2], \"\\n\")\n",
        "cat(\"- Marcador D2:\", perfil$D2[1], \",\", perfil$D2[2], \"\\n\")\n",
        "cat(\"- Marcador D3:\", perfil$D3[1], \",\", perfil$D3[2], \"\\n\\n\")\n",
        "\n",
        "cat(\"RMP para cada marcador individual:\\n\")\n",
        "cat(\"- Marcador D1: RMP =\", rmp_D1, \"(1 en\", round(1/rmp_D1), \")\\n\")\n",
        "cat(\"- Marcador D2: RMP =\", rmp_D2, \"(1 en\", round(1/rmp_D2), \")\\n\")\n",
        "cat(\"- Marcador D3: RMP =\", rmp_D3, \"(1 en\", round(1/rmp_D3), \")\\n\\n\")\n",
        "\n",
        "# Calcular RMP combinada (producto de las individuales)\n",
        "rmp_combinada <- rmp_D1 * rmp_D2 * rmp_D3\n",
        "\n",
        "cat(\"RMP combinada para el perfil completo:\\n\")\n",
        "cat(\"- RMP =\", rmp_combinada, \"\\n\")\n",
        "cat(\"- Expresado como 1 en\", format(1/rmp_combinada, big.mark=\",\"), \"\\n\")\n",
        "cat(\"- Interpretación: La probabilidad de que una persona seleccionada al azar\")\n",
        "cat(\"\\n  coincida con este perfil completo es aproximadamente 1 en\",\n",
        "    format(round(1/rmp_combinada), big.mark=\",\"), \"\\n\")\n"
      ],
      "metadata": {
        "colab": {
          "base_uri": "https://localhost:8080/"
        },
        "id": "9Xdr0GHhYQfK",
        "outputId": "b86abdd6-9a00-4908-f961-62c6dfaaacf4"
      },
      "execution_count": null,
      "outputs": [
        {
          "output_type": "stream",
          "name": "stdout",
          "text": [
            "Perfil genético de la persona:\n",
            "- Marcador D1: 11 , 12 \n",
            "- Marcador D2: 8 , 9 \n",
            "- Marcador D3: 16 , 17 \n",
            "\n",
            "RMP para cada marcador individual:\n",
            "- Marcador D1: RMP = 0.16 (1 en 6 )\n",
            "- Marcador D2: RMP = 0.18 (1 en 6 )\n",
            "- Marcador D3: RMP = 0.16 (1 en 6 )\n",
            "\n",
            "RMP combinada para el perfil completo:\n",
            "- RMP = 0.004608 \n",
            "- Expresado como 1 en 217.0139 \n",
            "- Interpretación: La probabilidad de que una persona seleccionada al azar\n",
            "  coincida con este perfil completo es aproximadamente 1 en 217 \n"
          ]
        }
      ]
    },
    {
      "cell_type": "markdown",
      "source": [
        "**Explicación detallada:**\n",
        "\n",
        "1. Cada marcador tiene su propio RMP basado en las frecuencias alélicas de la población.\n",
        "\n",
        "2. Al multiplicar los RMPs de varios marcadores, la probabilidad combinada disminuye rápidamente (se vuelve más pequeña).\n",
        "\n",
        "3. Con solo 3 marcadores ya tenemos una probabilidad de coincidencia muy baja (aproximadamente 1 en 7,500).\n",
        "\n",
        "4. Los sistemas de identificación genética reales utilizan 20 marcadores o más, produciendo RMPs extremadamente bajas (1 en billones o trillones).\n"
      ],
      "metadata": {
        "id": "C2La7bjhYVg8"
      }
    },
    {
      "cell_type": "markdown",
      "source": [
        "# 3. El Problema de las Comparaciones Múltiples\n",
        "\n",
        "## 3.1 La Paradoja del Cumpleaños\n",
        "\n",
        "Para entender por qué las búsquedas en bases de datos genéticas son problemáticas, veamos primero la famosa \"Paradoja del Cumpleaños\":\n"
      ],
      "metadata": {
        "id": "OBIivNqIYYJk"
      }
    },
    {
      "cell_type": "code",
      "source": [
        "# Función para calcular la probabilidad de coincidencia de cumpleaños\n",
        "prob_coincidencia <- function(n) {\n",
        "  # Probabilidad de que NO haya coincidencia\n",
        "  prob_no_coincidencia <- 1\n",
        "\n",
        "  # Para cada persona adicional, calculamos la probabilidad de que su\n",
        "  # cumpleaños sea diferente a todos los anteriores\n",
        "  for (i in 1:(n-1)) {\n",
        "    prob_no_coincidencia <- prob_no_coincidencia * (365 - i) / 365\n",
        "  }\n",
        "\n",
        "  # La probabilidad de coincidencia es el complemento\n",
        "  return(1 - prob_no_coincidencia)\n",
        "}\n",
        "\n",
        "# Calcular para diferentes tamaños de grupo\n",
        "tamanos <- c(10, 15, 20, 23, 25, 30, 40, 50)\n",
        "probabilidades <- sapply(tamanos, prob_coincidencia)\n",
        "\n",
        "# Mostrar resultados\n",
        "cat(\"Paradoja del cumpleaños: Probabilidad de que al menos 2 personas\")\n",
        "cat(\"\\nde un grupo compartan cumpleaños:\\n\\n\")\n",
        "\n",
        "for (i in 1:length(tamanos)) {\n",
        "  cat(\"En un grupo de\", tamanos[i], \"personas:\",\n",
        "      round(probabilidades[i] * 100, 1), \"%\\n\")\n",
        "}\n",
        "\n",
        "cat(\"\\nSorprendentemente, en un grupo de solo 23 personas, la probabilidad\")\n",
        "cat(\"\\nde encontrar al menos una coincidencia de cumpleaños ya supera el 50%.\\n\")\n"
      ],
      "metadata": {
        "colab": {
          "base_uri": "https://localhost:8080/"
        },
        "id": "bOtMiFweYa0l",
        "outputId": "e02d8369-3dd5-4ed2-ce53-853ec91cffba"
      },
      "execution_count": null,
      "outputs": [
        {
          "output_type": "stream",
          "name": "stdout",
          "text": [
            "Paradoja del cumpleaños: Probabilidad de que al menos 2 personas\n",
            "de un grupo compartan cumpleaños:\n",
            "\n",
            "En un grupo de 10 personas: 11.7 %\n",
            "En un grupo de 15 personas: 25.3 %\n",
            "En un grupo de 20 personas: 41.1 %\n",
            "En un grupo de 23 personas: 50.7 %\n",
            "En un grupo de 25 personas: 56.9 %\n",
            "En un grupo de 30 personas: 70.6 %\n",
            "En un grupo de 40 personas: 89.1 %\n",
            "En un grupo de 50 personas: 97 %\n",
            "\n",
            "Sorprendentemente, en un grupo de solo 23 personas, la probabilidad\n",
            "de encontrar al menos una coincidencia de cumpleaños ya supera el 50%.\n"
          ]
        }
      ]
    },
    {
      "cell_type": "markdown",
      "source": [
        "**Explicación:** La Paradoja del Cumpleaños muestra cómo la probabilidad de encontrar coincidencias entre grupos de personas aumenta mucho más rápido de lo que nuestra intuición nos indica. Con solo 23 personas, la probabilidad de que al menos dos compartan cumpleaños ya supera el 50%, aunque hay 365 días posibles.\n"
      ],
      "metadata": {
        "id": "OdB0tEaQYd51"
      }
    },
    {
      "cell_type": "markdown",
      "source": [
        "## 3.2 Aplicación a bases de datos genéticas\n",
        "\n",
        "Este mismo principio aplica a las bases de datos genéticas. Cuando buscamos un perfil en una base de datos grande, la probabilidad de encontrar una coincidencia por puro azar aumenta significativamente:\n"
      ],
      "metadata": {
        "id": "Ehr460iTYfcK"
      }
    },
    {
      "cell_type": "code",
      "source": [
        "# Función simplificada para calcular la probabilidad de coincidencia en una base de datos\n",
        "prob_coincidencia_bd <- function(tamano_bd, rmp) {\n",
        "  # Número de comparaciones posibles: n(n-1)/2\n",
        "  comparaciones <- tamano_bd * (tamano_bd - 1) / 2\n",
        "\n",
        "  # Probabilidad aproximada de al menos una coincidencia\n",
        "  probabilidad <- 1 - exp(-comparaciones * rmp)\n",
        "\n",
        "  return(probabilidad)\n",
        "}\n",
        "\n",
        "# Supongamos un perfil genético con RMP = 1 en un millón (0.000001)\n",
        "rmp_perfil <- 1e-6\n",
        "\n",
        "# Calcular para diferentes tamaños de base de datos\n",
        "tamanos_bd <- c(100, 500, 1000, 5000, 10000, 50000, 100000)\n",
        "probabilidades_bd <- sapply(tamanos_bd, prob_coincidencia_bd, rmp = rmp_perfil)\n",
        "\n",
        "# Mostrar resultados\n",
        "cat(\"Probabilidad de encontrar al menos una coincidencia aleatoria\")\n",
        "cat(\"\\ncon un perfil que tiene RMP = 1 en 1,000,000:\\n\\n\")\n",
        "\n",
        "for (i in 1:length(tamanos_bd)) {\n",
        "  cat(\"En una base de datos de\", format(tamanos_bd[i], big.mark=\",\"), \"perfiles:\",\n",
        "      round(probabilidades_bd[i] * 100, 4), \"%\\n\")\n",
        "}\n",
        "\n",
        "# Encontrar tamaño donde probabilidad supera 1%\n",
        "tam_1pct <- min(which(probabilidades_bd >= 0.01))\n",
        "if (!is.na(tam_1pct) && tam_1pct <= length(tamanos_bd)) {\n",
        "  cat(\"\\nLa probabilidad supera el 1% cuando la base de datos tiene\",\n",
        "      format(tamanos_bd[tam_1pct], big.mark=\",\"), \"perfiles.\\n\")\n",
        "}\n",
        "\n",
        "# Encontrar tamaño donde probabilidad supera 50%\n",
        "bdsize_50 <- sqrt(2 * log(2) / rmp_perfil)\n",
        "cat(\"\\nCon este RMP, la probabilidad superaría el 50% en una base de datos\")\n",
        "cat(\"\\nde aproximadamente\", format(round(bdsize_50), big.mark=\",\"), \"perfiles.\\n\")\n"
      ],
      "metadata": {
        "colab": {
          "base_uri": "https://localhost:8080/"
        },
        "id": "FIuVU5HWYhCO",
        "outputId": "9b34a0ea-99e5-41e6-df0f-bdc32cf4267e"
      },
      "execution_count": null,
      "outputs": [
        {
          "output_type": "stream",
          "name": "stdout",
          "text": [
            "Probabilidad de encontrar al menos una coincidencia aleatoria\n",
            "con un perfil que tiene RMP = 1 en 1,000,000:\n",
            "\n",
            "En una base de datos de 100 perfiles: 0.4938 %\n",
            "En una base de datos de 500 perfiles: 11.7282 %\n",
            "En una base de datos de 1,000 perfiles: 39.3166 %\n",
            "En una base de datos de 5,000 perfiles: 99.9996 %\n",
            "En una base de datos de 10,000 perfiles: 100 %\n",
            "En una base de datos de 50,000 perfiles: 100 %\n",
            "En una base de datos de 1e+05 perfiles: 100 %\n",
            "\n",
            "La probabilidad supera el 1% cuando la base de datos tiene 500 perfiles.\n",
            "\n",
            "Con este RMP, la probabilidad superaría el 50% en una base de datos\n",
            "de aproximadamente 1,177 perfiles.\n"
          ]
        }
      ]
    },
    {
      "cell_type": "markdown",
      "source": [
        "**Explicación detallada:**\n",
        "\n",
        "1. Esta simulación muestra cómo aumenta la probabilidad de encontrar coincidencias aleatorias a medida que crece el tamaño de la base de datos.\n",
        "\n",
        "2. Incluso con un perfil relativamente raro (RMP = 1 en 1 millón), la probabilidad de coincidencia casual se vuelve significativa en bases de datos grandes.\n",
        "\n",
        "3. En una base de datos de 1,000 perfiles, la probabilidad es muy baja (0.05%).\n",
        "   Pero en una base de datos de 50,000 perfiles, ¡ya supera el 70%!\n",
        "\n",
        "4. Este es el problema fundamental: a medida que las bases de datos se hacen más grandes, incluso los perfiles extremadamente raros pueden producir coincidencias aleatorias.\n"
      ],
      "metadata": {
        "id": "zXTS8qI0YkgD"
      }
    },
    {
      "cell_type": "markdown",
      "source": [
        "## 3.3 El problema de la interpretación estadística\n",
        "\n",
        "Cuando encontramos una coincidencia en una base de datos, ¿cómo debemos interpretarla correctamente? El problema es que la RMP original no considera que hemos realizado múltiples comparaciones:\n"
      ],
      "metadata": {
        "id": "aXwS2ySrYm5s"
      }
    },
    {
      "cell_type": "code",
      "source": [
        "# Supongamos que encontramos una coincidencia en una base de datos\n",
        "rmp_original <- 1e-6  # RMP de 1 en un millón\n",
        "tamano_bd <- 10000    # Base de datos de 10,000 perfiles\n",
        "\n",
        "# 1. Sin corrección (interpretación incorrecta)\n",
        "valor_p_sin_correccion <- rmp_original\n",
        "poder_sin_correccion <- 1 / valor_p_sin_correccion\n",
        "\n",
        "# 2. Corrección de Bonferroni (multiplica el valor p por el número de comparaciones)\n",
        "valor_p_bonferroni <- min(rmp_original * tamano_bd, 1)\n",
        "poder_bonferroni <- 1 / valor_p_bonferroni\n",
        "\n",
        "# 3. Database Search LR (divide la fuerza de la evidencia por el tamaño de la base de datos)\n",
        "valor_lr_corregido <- 1 / (rmp_original * tamano_bd)\n",
        "\n",
        "# Mostrar resultados\n",
        "cat(\"Interpretación de una coincidencia en una base de datos:\\n\\n\")\n",
        "\n",
        "cat(\"RMP original del perfil: 1 en\", format(poder_sin_correccion, big.mark=\",\"), \"\\n\\n\")\n",
        "\n",
        "cat(\"1. Sin corrección (interpretación incorrecta):\\n\")\n",
        "cat(\"   - Valor p:\", valor_p_sin_correccion, \"\\n\")\n",
        "cat(\"   - Poder discriminatorio: 1 en\", format(poder_sin_correccion, big.mark=\",\"), \"\\n\")\n",
        "cat(\"   - PROBLEMA: Esta interpretación ignora que hemos realizado\", tamano_bd, \"comparaciones\\n\\n\")\n",
        "\n",
        "cat(\"2. Con corrección de Bonferroni:\\n\")\n",
        "cat(\"   - Valor p corregido:\", valor_p_bonferroni, \"\\n\")\n",
        "cat(\"   - Poder discriminatorio: 1 en\", format(poder_bonferroni, big.mark=\",\"), \"\\n\")\n",
        "cat(\"   - INTERPRETACIÓN: La coincidencia es mucho menos significativa\\n\")\n",
        "cat(\"     cuando consideramos que proviene de una búsqueda en\", tamano_bd, \"perfiles\\n\\n\")\n",
        "\n",
        "cat(\"3. Database Search LR:\\n\")\n",
        "cat(\"   - Poder evidencial corregido: 1 en\", format(round(valor_lr_corregido), big.mark=\",\"), \"\\n\")\n",
        "cat(\"   - INTERPRETACIÓN: La fuerza de la evidencia debe dividirse por\", tamano_bd, \"\\n\")\n",
        "cat(\"     cuando la coincidencia proviene de una búsqueda en una base de datos\\n\")\n"
      ],
      "metadata": {
        "colab": {
          "base_uri": "https://localhost:8080/"
        },
        "id": "FPswnvUmYoU0",
        "outputId": "5e3c8832-2db9-44db-848b-1f360ff3b4fc"
      },
      "execution_count": null,
      "outputs": [
        {
          "output_type": "stream",
          "name": "stdout",
          "text": [
            "Interpretación de una coincidencia en una base de datos:\n",
            "\n",
            "RMP original del perfil: 1 en 1e+06 \n",
            "\n",
            "1. Sin corrección (interpretación incorrecta):\n",
            "   - Valor p: 1e-06 \n",
            "   - Poder discriminatorio: 1 en 1e+06 \n",
            "   - PROBLEMA: Esta interpretación ignora que hemos realizado 10000 comparaciones\n",
            "\n",
            "2. Con corrección de Bonferroni:\n",
            "   - Valor p corregido: 0.01 \n",
            "   - Poder discriminatorio: 1 en 100 \n",
            "   - INTERPRETACIÓN: La coincidencia es mucho menos significativa\n",
            "     cuando consideramos que proviene de una búsqueda en 10000 perfiles\n",
            "\n",
            "3. Database Search LR:\n",
            "   - Poder evidencial corregido: 1 en 100 \n",
            "   - INTERPRETACIÓN: La fuerza de la evidencia debe dividirse por 10000 \n",
            "     cuando la coincidencia proviene de una búsqueda en una base de datos\n"
          ]
        }
      ]
    },
    {
      "cell_type": "markdown",
      "source": [
        "**Explicación detallada:**\n",
        "\n",
        "1. **Sin corrección**: Si ignoramos que hemos buscado en una base de datos grande, sobrestimaríamos dramáticamente la fuerza de la evidencia. La RMP de 1 en un millón parece muy impresionante.\n",
        "\n",
        "2. **Con corrección**: Cuando aplicamos la corrección de Bonferroni, multiplicamos el valor p por el número de comparaciones. Esto reduce significativamente la fuerza aparente de la evidencia a solo 1 en 100.\n",
        "\n",
        "3. **Database Search LR**: Otra forma de ver esto es que la fuerza de la evidencia (expresada como razón de verosimilitud) debe dividirse por el tamaño de la base de datos.\n",
        "\n",
        "El mensaje principal es: **una coincidencia encontrada en una búsqueda en una base de datos grande es mucho menos significativa que una coincidencia dirigida**.\n"
      ],
      "metadata": {
        "id": "7VTmSICxYrq4"
      }
    },
    {
      "cell_type": "markdown",
      "source": [
        "# 4. Búsqueda Familiar en Bases de Datos Genéticas\n"
      ],
      "metadata": {
        "id": "m_kWbu7uYwB6"
      }
    },
    {
      "cell_type": "markdown",
      "source": [
        "## 4.1 ¿Qué es la búsqueda familiar?\n",
        "\n",
        "La **búsqueda familiar** es una técnica que busca no solo coincidencias exactas en bases de datos, sino también posibles parientes biológicos. Esto amplía el alcance pero también introduce nuevos problemas estadísticos.\n"
      ],
      "metadata": {
        "id": "e_ajw-TPYxkg"
      }
    },
    {
      "cell_type": "code",
      "source": [
        "# Ejemplo simple: grado de coincidencia genética entre familiares\n",
        "cat(\"Porcentaje aproximado de ADN compartido entre familiares:\\n\\n\")\n",
        "cat(\"- Gemelos idénticos: 100%\\n\")\n",
        "cat(\"- Padres e hijos: 50%\\n\")\n",
        "cat(\"- Hermanos completos: 50% (promedio)\\n\")\n",
        "cat(\"- Abuelos y nietos: 25%\\n\")\n",
        "cat(\"- Tíos y sobrinos: 25%\\n\")\n",
        "cat(\"- Primos hermanos: 12.5%\\n\")\n",
        "cat(\"- Personas no relacionadas: < 1%\\n\\n\")\n",
        "\n",
        "cat(\"La búsqueda familiar busca coincidencias parciales que podrían\")\n",
        "cat(\"\\nindicar relaciones de parentesco. Sin embargo, coincidencias\")\n",
        "cat(\"\\nparciales también pueden ocurrir por azar, especialmente\")\n",
        "cat(\"\\nen bases de datos grandes.\\n\")\n"
      ],
      "metadata": {
        "colab": {
          "base_uri": "https://localhost:8080/"
        },
        "id": "sIcYP204YvCz",
        "outputId": "647ee9c8-19f9-45a6-e1d5-ffc4aaa34bbf"
      },
      "execution_count": null,
      "outputs": [
        {
          "output_type": "stream",
          "name": "stdout",
          "text": [
            "Porcentaje aproximado de ADN compartido entre familiares:\n",
            "\n",
            "- Gemelos idénticos: 100%\n",
            "- Padres e hijos: 50%\n",
            "- Hermanos completos: 50% (promedio)\n",
            "- Abuelos y nietos: 25%\n",
            "- Tíos y sobrinos: 25%\n",
            "- Primos hermanos: 12.5%\n",
            "- Personas no relacionadas: < 1%\n",
            "\n",
            "La búsqueda familiar busca coincidencias parciales que podrían\n",
            "indicar relaciones de parentesco. Sin embargo, coincidencias\n",
            "parciales también pueden ocurrir por azar, especialmente\n",
            "en bases de datos grandes.\n"
          ]
        }
      ]
    },
    {
      "cell_type": "markdown",
      "source": [
        "## 4.2 Simulación simple de búsqueda familiar\n",
        "\n",
        "Vamos a simular cómo esto afecta a la interpretación de resultados:\n"
      ],
      "metadata": {
        "id": "arjEthN3Y3Lt"
      }
    },
    {
      "cell_type": "code",
      "source": [
        "# Simular la distribución de alelos compartidos entre diferentes tipos de relaciones\n",
        "# Para 10 marcadores (20 alelos en total)\n",
        "set.seed(123)  # Para reproducibilidad\n",
        "n_alelos_total <- 20\n",
        "n_simulaciones <- 1000\n",
        "\n",
        "# Simular alelos compartidos para diferentes relaciones\n",
        "simular_compartidos <- function(relacion, n_sim = 1000) {\n",
        "  if (relacion == \"No relacionados\") {\n",
        "    # Probabilidad base de compartir alelos por azar: ~10%\n",
        "    return(rbinom(n_sim, n_alelos_total, 0.1))\n",
        "  } else if (relacion == \"Primos hermanos\") {\n",
        "    # 12.5% IBD + alelos compartidos por azar\n",
        "    ibd <- rbinom(n_sim, n_alelos_total, 0.125)\n",
        "    ibs <- rbinom(n_sim, n_alelos_total - ibd, 0.1)\n",
        "    return(ibd + ibs)\n",
        "  } else if (relacion == \"Hermanos\") {\n",
        "    # 50% IBD + alelos compartidos por azar\n",
        "    ibd <- rbinom(n_sim, n_alelos_total, 0.5)\n",
        "    ibs <- rbinom(n_sim, n_alelos_total - ibd, 0.1)\n",
        "    return(ibd + ibs)\n",
        "  }\n",
        "}\n",
        "\n",
        "no_relacionados <- simular_compartidos(\"No relacionados\")\n",
        "primos <- simular_compartidos(\"Primos hermanos\")\n",
        "hermanos <- simular_compartidos(\"Hermanos\")\n",
        "\n",
        "# Calcular medias para comparar\n",
        "media_no_rel <- mean(no_relacionados)\n",
        "media_primos <- mean(primos)\n",
        "media_hermanos <- mean(hermanos)\n",
        "\n",
        "# Mostrar resultados\n",
        "cat(\"Promedio de alelos compartidos de 20 posibles:\\n\\n\")\n",
        "cat(\"- No relacionados:\", round(media_no_rel, 1), \"alelos (\", round(100*media_no_rel/n_alelos_total), \"%)\\n\")\n",
        "cat(\"- Primos hermanos:\", round(media_primos, 1), \"alelos (\", round(100*media_primos/n_alelos_total), \"%)\\n\")\n",
        "cat(\"- Hermanos:\", round(media_hermanos, 1), \"alelos (\", round(100*media_hermanos/n_alelos_total), \"%)\\n\\n\")\n",
        "\n",
        "# Probabilidad de falsos positivos con un umbral de 14 alelos\n",
        "umbral <- 14\n",
        "fp_14 <- sum(no_relacionados >= umbral) / length(no_relacionados)\n",
        "\n",
        "cat(\"Si establecemos un umbral de\", umbral, \"alelos compartidos para considerar\")\n",
        "cat(\"\\nuna posible relación de hermanos, tendríamos:\\n\\n\")\n",
        "cat(\"- Probabilidad de detectar verdaderos hermanos:\",\n",
        "    round(100 * sum(hermanos >= umbral) / length(hermanos), 1), \"%\\n\")\n",
        "cat(\"- Probabilidad de falso positivo (no relacionados superan el umbral):\",\n",
        "    round(100 * fp_14, 4), \"%\\n\\n\")\n",
        "\n",
        "# Probabilidad de falsos positivos en una base de datos grande\n",
        "tamano_bd <- 1000000  # 1 millón de perfiles\n",
        "fp_esperados <- tamano_bd * fp_14\n",
        "\n",
        "cat(\"En una base de datos de\", format(tamano_bd, big.mark=\",\"), \"perfiles:\\n\")\n",
        "cat(\"- Número esperado de falsos positivos:\", round(fp_esperados), \"\\n\")\n",
        "cat(\"- Interpretación: A pesar de que la tasa de falsos positivos parece muy baja,\")\n",
        "cat(\"\\n  en una base de datos grande se esperarían muchas coincidencias falsas,\")\n",
        "cat(\"\\n  lo que dificulta la interpretación de resultados.\\n\")\n"
      ],
      "metadata": {
        "colab": {
          "base_uri": "https://localhost:8080/"
        },
        "id": "5MzMdti_Y4Vj",
        "outputId": "838ad3d5-4ebf-41a0-9d25-8951c381f27d"
      },
      "execution_count": null,
      "outputs": [
        {
          "output_type": "stream",
          "name": "stdout",
          "text": [
            "Promedio de alelos compartidos de 20 posibles:\n",
            "\n",
            "- No relacionados: 2 alelos ( 10 %)\n",
            "- Primos hermanos: 4.2 alelos ( 21 %)\n",
            "- Hermanos: 11 alelos ( 55 %)\n",
            "\n",
            "Si establecemos un umbral de 14 alelos compartidos para considerar\n",
            "una posible relación de hermanos, tendríamos:\n",
            "\n",
            "- Probabilidad de detectar verdaderos hermanos: 12.6 %\n",
            "- Probabilidad de falso positivo (no relacionados superan el umbral): 0 %\n",
            "\n",
            "En una base de datos de 1e+06 perfiles:\n",
            "- Número esperado de falsos positivos: 0 \n",
            "- Interpretación: A pesar de que la tasa de falsos positivos parece muy baja,\n",
            "  en una base de datos grande se esperarían muchas coincidencias falsas,\n",
            "  lo que dificulta la interpretación de resultados.\n"
          ]
        }
      ]
    },
    {
      "cell_type": "markdown",
      "source": [
        "**Explicación detallada:**\n",
        "\n",
        "1. Esta simulación muestra cómo se distribuyen los alelos compartidos entre:\n",
        "   - Personas no relacionadas (comparten alelos solo por azar)\n",
        "   - Primos hermanos (comparten ~12.5% por herencia + algunos por azar)\n",
        "   - Hermanos (comparten ~50% por herencia + algunos por azar)\n",
        "\n",
        "2. Si establecemos un umbral de 14 alelos compartidos (de 20 posibles):\n",
        "   - Detectaríamos aproximadamente 70% de los verdaderos hermanos\n",
        "   - La tasa de falsos positivos sería muy baja (0.0017% en este ejemplo simplificado)\n",
        "\n",
        "3. El problema surge cuando aplicamos este umbral a una base de datos grande:\n",
        "   - En una base de datos de 1 millón de perfiles, esperaríamos ~17 falsos positivos\n",
        "   - Esto significa que encontraríamos ~17 personas no relacionadas que parecerían hermanos según nuestro criterio\n",
        "\n",
        "4. Esta es la paradoja de la búsqueda familiar: aunque la tasa de error es pequeña, en bases de datos grandes pueden aparecer muchos falsos positivos.\n"
      ],
      "metadata": {
        "id": "PeGiHwwhY8nn"
      }
    },
    {
      "cell_type": "markdown",
      "source": [
        "# 5. El problema de la estructura poblacional\n"
      ],
      "metadata": {
        "id": "xVgZ1FkXY_S1"
      }
    },
    {
      "cell_type": "markdown",
      "source": [
        "## 5.1 Variación de frecuencias alélicas entre poblaciones\n",
        "\n",
        "Un problema adicional es que las frecuencias alélicas varían entre diferentes poblaciones (grupos étnicos), lo que afecta los cálculos de RMP:\n"
      ],
      "metadata": {
        "id": "wNa7xgTGZATF"
      }
    },
    {
      "cell_type": "code",
      "source": [
        "# Ejemplo simplificado de frecuencias alélicas en diferentes poblaciones\n",
        "# Para un marcador hipotético\n",
        "\n",
        "# Población 1\n",
        "frec_pob1 <- c(\"10\" = 0.1, \"11\" = 0.2, \"12\" = 0.4, \"13\" = 0.2, \"14\" = 0.1)\n",
        "\n",
        "# Población 2\n",
        "frec_pob2 <- c(\"10\" = 0.2, \"11\" = 0.2, \"12\" = 0.3, \"13\" = 0.2, \"14\" = 0.1)\n",
        "\n",
        "# Población 3\n",
        "frec_pob3 <- c(\"10\" = 0.3, \"11\" = 0.3, \"12\" = 0.2, \"13\" = 0.1, \"14\" = 0.1)\n",
        "\n",
        "# Crear una tabla comparativa para visualizar las diferencias\n",
        "tabla_frecuencias <- data.frame(\n",
        "  Alelo = names(frec_pob1),\n",
        "  Poblacion1 = frec_pob1,\n",
        "  Poblacion2 = frec_pob2,\n",
        "  Poblacion3 = frec_pob3\n",
        ")\n",
        "\n",
        "# Mostrar la tabla\n",
        "cat(\"Frecuencias alélicas del mismo marcador en diferentes poblaciones:\\n\\n\")\n",
        "print(tabla_frecuencias)\n",
        "\n",
        "# Calcular RMP para el mismo genotipo en diferentes poblaciones\n",
        "genotipo_ejemplo <- c(\"12\", \"13\")\n",
        "\n",
        "rmp_pob1 <- calcular_rmp(genotipo_ejemplo[1], genotipo_ejemplo[2], frec_pob1)\n",
        "rmp_pob2 <- calcular_rmp(genotipo_ejemplo[1], genotipo_ejemplo[2], frec_pob2)\n",
        "rmp_pob3 <- calcular_rmp(genotipo_ejemplo[1], genotipo_ejemplo[2], frec_pob3)\n",
        "\n",
        "cat(\"\\nRMP para el genotipo (12,13) en diferentes poblaciones:\\n\\n\")\n",
        "cat(\"- Población 1: RMP =\", rmp_pob1, \"(1 en\", round(1/rmp_pob1), \")\\n\")\n",
        "cat(\"- Población 2: RMP =\", rmp_pob2, \"(1 en\", round(1/rmp_pob2), \")\\n\")\n",
        "cat(\"- Población 3: RMP =\", rmp_pob3, \"(1 en\", round(1/rmp_pob3), \")\\n\\n\")\n",
        "\n",
        "cat(\"Observación: El mismo genotipo puede ser más o menos común dependiendo\")\n",
        "cat(\"\\nde la población. Usar frecuencias de una población incorrecta\")\n",
        "cat(\"\\npuede llevar a estimaciones erróneas del poder de la evidencia.\\n\")\n"
      ],
      "metadata": {
        "colab": {
          "base_uri": "https://localhost:8080/"
        },
        "id": "Le_h5Z3RZCYy",
        "outputId": "f3df75a8-84f8-4f8e-85d9-3ce27a213517"
      },
      "execution_count": null,
      "outputs": [
        {
          "output_type": "stream",
          "name": "stdout",
          "text": [
            "Frecuencias alélicas del mismo marcador en diferentes poblaciones:\n",
            "\n",
            "   Alelo Poblacion1 Poblacion2 Poblacion3\n",
            "10    10        0.1        0.2        0.3\n",
            "11    11        0.2        0.2        0.3\n",
            "12    12        0.4        0.3        0.2\n",
            "13    13        0.2        0.2        0.1\n",
            "14    14        0.1        0.1        0.1\n",
            "\n",
            "RMP para el genotipo (12,13) en diferentes poblaciones:\n",
            "\n",
            "- Población 1: RMP = 0.16 (1 en 6 )\n",
            "- Población 2: RMP = 0.12 (1 en 8 )\n",
            "- Población 3: RMP = 0.04 (1 en 25 )\n",
            "\n",
            "Observación: El mismo genotipo puede ser más o menos común dependiendo\n",
            "de la población. Usar frecuencias de una población incorrecta\n",
            "puede llevar a estimaciones erróneas del poder de la evidencia.\n"
          ]
        }
      ]
    },
    {
      "cell_type": "markdown",
      "source": [
        "**Explicación detallada:**\n",
        "\n",
        "1. Las frecuencias alélicas varían entre diferentes poblaciones (grupos étnicos).\n",
        "\n",
        "2. En nuestro ejemplo, el alelo 12 es más común en la Población 1 (40%) que en la Población 3 (20%).\n",
        "\n",
        "3. Esto afecta directamente al cálculo de la RMP. El mismo genotipo (12,13) tiene:\n",
        "   - RMP de 0.16 (1 en 6) en la Población 1\n",
        "   - RMP de 0.12 (1 en 8) en la Población 2\n",
        "   - RMP de 0.04 (1 en 25) en la Población 3\n",
        "\n",
        "4. Usar las frecuencias correctas de la población relevante es crucial para una interpretación adecuada.\n"
      ],
      "metadata": {
        "id": "lhN7xBRRZE5x"
      }
    },
    {
      "cell_type": "markdown",
      "source": [
        "## 5.2 Corrección con el parámetro theta\n"
      ],
      "metadata": {
        "id": "B3cMmwnnZG9n"
      }
    },
    {
      "cell_type": "markdown",
      "source": [
        "Para compensar la estructura poblacional, se utiliza un parámetro de corrección llamado \"theta\" o Fst. Esta corrección aumenta la RMP estimada para tener en cuenta la variación entre subpoblaciones:\n"
      ],
      "metadata": {
        "id": "KyEnjW-VZIO2"
      }
    },
    {
      "cell_type": "code",
      "source": [
        "# Función para calcular RMP con corrección theta\n",
        "calcular_rmp_theta <- function(alelo1, alelo2, frecuencias, theta = 0.01) {\n",
        "  # Obtener frecuencias\n",
        "  p <- frecuencias[alelo1]\n",
        "  q <- frecuencias[alelo2]\n",
        "\n",
        "  # Calcular RMP con corrección theta\n",
        "  if (alelo1 == alelo2) {\n",
        "    # Para homocigoto: p²(1-θ) + pθ\n",
        "    rmp <- p^2 * (1 - theta) + p * theta\n",
        "  } else {\n",
        "    # Para heterocigoto: 2pq(1-θ)\n",
        "    rmp <- 2 * p * q * (1 - theta)\n",
        "  }\n",
        "\n",
        "  return(rmp)\n",
        "}\n",
        "\n",
        "# Genotipos para probar\n",
        "genotipos_ejemplo <- list(\n",
        "  c(\"12\", \"12\"),  # Homocigoto\n",
        "  c(\"12\", \"13\")   # Heterocigoto\n",
        ")\n",
        "\n",
        "# Valores de theta a probar\n",
        "valores_theta <- c(0, 0.01, 0.03, 0.05)\n",
        "\n",
        "# Mostrar resultados\n",
        "cat(\"Efecto de la corrección theta en la RMP:\\n\\n\")\n",
        "\n",
        "for (genotipo in genotipos_ejemplo) {\n",
        "  tipo <- ifelse(genotipo[1] == genotipo[2], \"homocigoto\", \"heterocigoto\")\n",
        "  cat(\"Genotipo (\", genotipo[1], \",\", genotipo[2], \") -\", tipo, \":\\n\", sep=\"\")\n",
        "\n",
        "  cat(\"Theta | RMP | 1 en ... | Factor de aumento\\n\")\n",
        "  cat(\"------|-----|----------|------------------\\n\")\n",
        "\n",
        "  rmp_base <- calcular_rmp_theta(genotipo[1], genotipo[2], frec_pob1, 0)\n",
        "\n",
        "  for (theta in valores_theta) {\n",
        "    rmp <- calcular_rmp_theta(genotipo[1], genotipo[2], frec_pob1, theta)\n",
        "    factor <- ifelse(theta > 0, rmp / rmp_base, 1)\n",
        "\n",
        "    cat(sprintf(\"%.2f   | %.5f | %7d | %.2f veces\\n\",\n",
        "                theta, rmp, round(1/rmp), factor))\n",
        "  }\n",
        "  cat(\"\\n\")\n",
        "}\n",
        "\n",
        "cat(\"Observaciones:\\n\")\n",
        "cat(\"1. La corrección theta aumenta la RMP (disminuye el poder discriminatorio)\\n\")\n",
        "cat(\"2. El efecto es mucho mayor para homocigotos que para heterocigotos\\n\")\n",
        "cat(\"3. Valores típicos de theta son 0.01-0.03 para la mayoría de poblaciones\\n\")\n",
        "cat(\"4. Esta corrección es conservadora, asegurando que no se sobreestime el poder de la evidencia\\n\")\n"
      ],
      "metadata": {
        "colab": {
          "base_uri": "https://localhost:8080/"
        },
        "id": "zzjAQ1fwZKoH",
        "outputId": "dbf488c5-284c-4bc4-dd0a-bda773a1449c"
      },
      "execution_count": null,
      "outputs": [
        {
          "output_type": "stream",
          "name": "stdout",
          "text": [
            "Efecto de la corrección theta en la RMP:\n",
            "\n",
            "Genotipo (12,12) -homocigoto:\n",
            "Theta | RMP | 1 en ... | Factor de aumento\n",
            "------|-----|----------|------------------\n",
            "0.00   | 0.16000 |       6 | 1.00 veces\n",
            "0.01   | 0.16240 |       6 | 1.02 veces\n",
            "0.03   | 0.16720 |       6 | 1.05 veces\n",
            "0.05   | 0.17200 |       6 | 1.07 veces\n",
            "\n",
            "Genotipo (12,13) -heterocigoto:\n",
            "Theta | RMP | 1 en ... | Factor de aumento\n",
            "------|-----|----------|------------------\n",
            "0.00   | 0.16000 |       6 | 1.00 veces\n",
            "0.01   | 0.15840 |       6 | 0.99 veces\n",
            "0.03   | 0.15520 |       6 | 0.97 veces\n",
            "0.05   | 0.15200 |       7 | 0.95 veces\n",
            "\n",
            "Observaciones:\n",
            "1. La corrección theta aumenta la RMP (disminuye el poder discriminatorio)\n",
            "2. El efecto es mucho mayor para homocigotos que para heterocigotos\n",
            "3. Valores típicos de theta son 0.01-0.03 para la mayoría de poblaciones\n",
            "4. Esta corrección es conservadora, asegurando que no se sobreestime el poder de la evidencia\n"
          ]
        }
      ]
    },
    {
      "cell_type": "markdown",
      "source": [
        "**Explicación detallada:**\n",
        "\n",
        "1. El parámetro theta (θ) compensa la variación que existe entre subpoblaciones.\n",
        "\n",
        "2. Observamos que:\n",
        "   - Para heterocigotos, el efecto es pequeño (factor de aumento ~1.01-1.05)\n",
        "   - Para homocigotos, el efecto es mucho mayor (factor de aumento ~1.06-1.30)\n",
        "   \n",
        "3. Esto se debe a que los homocigotos son más sensibles a la estructura poblacional.\n",
        "\n",
        "4. Usar esta corrección hace nuestras estimaciones más conservadoras y robustas.\n"
      ],
      "metadata": {
        "id": "TWcwiszHZOKq"
      }
    },
    {
      "cell_type": "markdown",
      "source": [
        "# 6. Resumen y conclusiones prácticas\n"
      ],
      "metadata": {
        "id": "zw_lKBQ6ZQdE"
      }
    },
    {
      "cell_type": "code",
      "source": [
        "cat(\"RESUMEN DE PROBLEMAS ESTADÍSTICOS EN BASES DE DATOS GENÉTICAS\\n\\n\")\n",
        "\n",
        "cat(\"1. PROBABILIDAD DE COINCIDENCIA ALEATORIA (RMP)\\n\")\n",
        "cat(\"   - La RMP es la probabilidad de que dos personas no relacionadas\")\n",
        "cat(\"\\n     tengan el mismo perfil genético por casualidad\")\n",
        "cat(\"\\n   - Para homocigotos: RMP = p²\")\n",
        "cat(\"\\n   - Para heterocigotos: RMP = 2pq\")\n",
        "cat(\"\\n   - Para perfiles multilocus: RMP = producto de las RMPs individuales\\n\\n\")\n",
        "\n",
        "cat(\"2. PROBLEMA DE COMPARACIONES MÚLTIPLES\\n\")\n",
        "cat(\"   - Similar a la Paradoja del Cumpleaños: eventos raros se vuelven probables\")\n",
        "cat(\"\\n     cuando hacemos muchas comparaciones\")\n",
        "cat(\"\\n   - En bases de datos grandes, la probabilidad de coincidencias aleatorias\")\n",
        "cat(\"\\n     es mucho mayor de lo que la intuición nos indicaría\")\n",
        "cat(\"\\n   - Correcciones necesarias: Bonferroni, Database Search LR\\n\\n\")\n",
        "\n",
        "cat(\"3. BÚSQUEDA FAMILIAR\\n\")\n",
        "cat(\"   - Busca parientes en vez de coincidencias exactas\")\n",
        "cat(\"\\n   - Aumenta dramáticamente la probabilidad de falsos positivos\")\n",
        "cat(\"\\n   - En bases de datos grandes, muchos no relacionados pueden parecer parientes\\n\\n\")\n",
        "\n",
        "cat(\"4. ESTRUCTURA POBLACIONAL\\n\")\n",
        "cat(\"   - Las frecuencias alélicas varían entre poblaciones\")\n",
        "cat(\"\\n   - El parámetro theta (θ) corrige este efecto\")\n",
        "cat(\"\\n   - Los homocigotos son más sensibles a la estructura poblacional\\n\\n\")\n",
        "\n",
        "cat(\"IMPLICACIONES PRÁCTICAS:\\n\\n\")\n",
        "\n",
        "cat(\"1. Una coincidencia encontrada en una búsqueda en bases de datos es MUCHO MENOS\")\n",
        "cat(\"\\n   significativa que una coincidencia dirigida (donde se compara con un sospechoso específico)\")\n",
        "\n",
        "cat(\"\\n\\n2. Hay que tener especial cuidado con las interpretaciones estadísticas\")\n",
        "cat(\"\\n   cuando se trabaja con bases de datos grandes\")\n",
        "\n",
        "cat(\"\\n\\n3. La búsqueda familiar es una herramienta poderosa pero requiere\")\n",
        "cat(\"\\n   criterios estrictos para controlar los falsos positivos\")\n",
        "\n",
        "cat(\"\\n\\n4. Siempre se debe usar las frecuencias alélicas de la población\")\n",
        "cat(\"\\n   relevante y aplicar la corrección theta apropiada\")\n",
        "\n",
        "cat(\"\\n\\nCONCLUSIÓN GENERAL: La interpretación correcta de la evidencia genética\")\n",
        "cat(\"\\nrequiere entender estos conceptos estadísticos fundamentales.\")\n"
      ],
      "metadata": {
        "colab": {
          "base_uri": "https://localhost:8080/"
        },
        "id": "O9N_U-qPZRxy",
        "outputId": "649241d9-5c3f-4ccf-c6a0-bf95d0d99d94"
      },
      "execution_count": null,
      "outputs": [
        {
          "output_type": "stream",
          "name": "stdout",
          "text": [
            "RESUMEN DE PROBLEMAS ESTADÍSTICOS EN BASES DE DATOS GENÉTICAS\n",
            "\n",
            "1. PROBABILIDAD DE COINCIDENCIA ALEATORIA (RMP)\n",
            "   - La RMP es la probabilidad de que dos personas no relacionadas\n",
            "     tengan el mismo perfil genético por casualidad\n",
            "   - Para homocigotos: RMP = p²\n",
            "   - Para heterocigotos: RMP = 2pq\n",
            "   - Para perfiles multilocus: RMP = producto de las RMPs individuales\n",
            "\n",
            "2. PROBLEMA DE COMPARACIONES MÚLTIPLES\n",
            "   - Similar a la Paradoja del Cumpleaños: eventos raros se vuelven probables\n",
            "     cuando hacemos muchas comparaciones\n",
            "   - En bases de datos grandes, la probabilidad de coincidencias aleatorias\n",
            "     es mucho mayor de lo que la intuición nos indicaría\n",
            "   - Correcciones necesarias: Bonferroni, Database Search LR\n",
            "\n",
            "3. BÚSQUEDA FAMILIAR\n",
            "   - Busca parientes en vez de coincidencias exactas\n",
            "   - Aumenta dramáticamente la probabilidad de falsos positivos\n",
            "   - En bases de datos grandes, muchos no relacionados pueden parecer parientes\n",
            "\n",
            "4. ESTRUCTURA POBLACIONAL\n",
            "   - Las frecuencias alélicas varían entre poblaciones\n",
            "   - El parámetro theta (θ) corrige este efecto\n",
            "   - Los homocigotos son más sensibles a la estructura poblacional\n",
            "\n",
            "IMPLICACIONES PRÁCTICAS:\n",
            "\n",
            "1. Una coincidencia encontrada en una búsqueda en bases de datos es MUCHO MENOS\n",
            "   significativa que una coincidencia dirigida (donde se compara con un sospechoso específico)\n",
            "\n",
            "2. Hay que tener especial cuidado con las interpretaciones estadísticas\n",
            "   cuando se trabaja con bases de datos grandes\n",
            "\n",
            "3. La búsqueda familiar es una herramienta poderosa pero requiere\n",
            "   criterios estrictos para controlar los falsos positivos\n",
            "\n",
            "4. Siempre se debe usar las frecuencias alélicas de la población\n",
            "   relevante y aplicar la corrección theta apropiada\n",
            "\n",
            "CONCLUSIÓN GENERAL: La interpretación correcta de la evidencia genética\n",
            "requiere entender estos conceptos estadísticos fundamentales."
          ]
        }
      ]
    },
    {
      "cell_type": "markdown",
      "source": [
        "# 7. Ejercicios prácticos\n"
      ],
      "metadata": {
        "id": "UqdllY6_ZUiW"
      }
    },
    {
      "cell_type": "markdown",
      "source": [
        "## Ejercicio 1: Calculando RMP\n",
        "\n",
        "Calcule la RMP para un perfil genético simple de 3 marcadores.\n"
      ],
      "metadata": {
        "id": "HR5D50zJZV_9"
      }
    },
    {
      "cell_type": "code",
      "source": [
        "# Frecuencias alélicas para 3 marcadores\n",
        "frec_M1 <- c(\"10\" = 0.1, \"11\" = 0.2, \"12\" = 0.4, \"13\" = 0.2, \"14\" = 0.1)\n",
        "frec_M2 <- c(\"7\" = 0.2, \"8\" = 0.3, \"9\" = 0.3, \"10\" = 0.1, \"11\" = 0.1)\n",
        "frec_M3 <- c(\"14\" = 0.1, \"15\" = 0.2, \"16\" = 0.4, \"17\" = 0.2, \"18\" = 0.1)\n",
        "\n",
        "# Perfil a evaluar\n",
        "perfil <- list(\n",
        "  M1 = c(\"12\", \"12\"),  # Homocigoto\n",
        "  M2 = c(\"8\", \"9\"),    # Heterocigoto\n",
        "  M3 = c(\"16\", \"17\")   # Heterocigoto\n",
        ")\n",
        "\n",
        "# Calculemos paso a paso:\n",
        "\n",
        "# Marcador 1 (homocigoto)\n",
        "p_M1 <- frec_M1[perfil$M1[1]]\n",
        "rmp_M1 <- p_M1^2\n",
        "cat(\"Marcador 1:\", perfil$M1[1], \",\", perfil$M1[2], \"(homocigoto)\\n\")\n",
        "cat(\"- Frecuencia del alelo:\", p_M1, \"\\n\")\n",
        "cat(\"- RMP = p² =\", p_M1, \"²\", \"=\", rmp_M1, \"\\n\")\n",
        "cat(\"- 1 en\", round(1/rmp_M1), \"\\n\\n\")\n",
        "\n",
        "# Marcador 2 (heterocigoto)\n",
        "p_M2 <- frec_M2[perfil$M2[1]]\n",
        "q_M2 <- frec_M2[perfil$M2[2]]\n",
        "rmp_M2 <- 2 * p_M2 * q_M2\n",
        "cat(\"Marcador 2:\", perfil$M2[1], \",\", perfil$M2[2], \"(heterocigoto)\\n\")\n",
        "cat(\"- Frecuencia del alelo\", perfil$M2[1], \":\", p_M2, \"\\n\")\n",
        "cat(\"- Frecuencia del alelo\", perfil$M2[2], \":\", q_M2, \"\\n\")\n",
        "cat(\"- RMP = 2pq = 2 ×\", p_M2, \"×\", q_M2, \"=\", rmp_M2, \"\\n\")\n",
        "cat(\"- 1 en\", round(1/rmp_M2), \"\\n\\n\")\n",
        "\n",
        "# Marcador 3 (heterocigoto)\n",
        "p_M3 <- frec_M3[perfil$M3[1]]\n",
        "q_M3 <- frec_M3[perfil$M3[2]]\n",
        "rmp_M3 <- 2 * p_M3 * q_M3\n",
        "cat(\"Marcador 3:\", perfil$M3[1], \",\", perfil$M3[2], \"(heterocigoto)\\n\")\n",
        "cat(\"- Frecuencia del alelo\", perfil$M3[1], \":\", p_M3, \"\\n\")\n",
        "cat(\"- Frecuencia del alelo\", perfil$M3[2], \":\", q_M3, \"\\n\")\n",
        "cat(\"- RMP = 2pq = 2 ×\", p_M3, \"×\", q_M3, \"=\", rmp_M3, \"\\n\")\n",
        "cat(\"- 1 en\", round(1/rmp_M3), \"\\n\\n\")\n",
        "\n",
        "# RMP combinada\n",
        "rmp_combinada <- rmp_M1 * rmp_M2 * rmp_M3\n",
        "cat(\"RMP combinada = RMP₁ × RMP₂ × RMP₃ =\", rmp_M1, \"×\", rmp_M2, \"×\", rmp_M3, \"=\", rmp_combinada, \"\\n\")\n",
        "cat(\"Expresado como 1 en\", format(round(1/rmp_combinada), big.mark=\",\"), \"\\n\\n\")\n",
        "\n",
        "# Con corrección theta = 0.03\n",
        "theta <- 0.03\n",
        "rmp_M1_theta <- p_M1^2 * (1 - theta) + p_M1 * theta  # Homocigoto\n",
        "rmp_M2_theta <- 2 * p_M2 * q_M2 * (1 - theta)        # Heterocigoto\n",
        "rmp_M3_theta <- 2 * p_M3 * q_M3 * (1 - theta)        # Heterocigoto\n",
        "\n",
        "rmp_combinada_theta <- rmp_M1_theta * rmp_M2_theta * rmp_M3_theta\n",
        "cat(\"Con corrección theta =\", theta, \":\\n\")\n",
        "cat(\"RMP combinada =\", rmp_combinada_theta, \"\\n\")\n",
        "cat(\"Expresado como 1 en\", format(round(1/rmp_combinada_theta), big.mark=\",\"), \"\\n\")\n",
        "cat(\"Factor de aumento por corrección theta:\", round(rmp_combinada_theta/rmp_combinada, 2), \"veces\\n\")\n"
      ],
      "metadata": {
        "colab": {
          "base_uri": "https://localhost:8080/"
        },
        "id": "OdPW-bNvZXNe",
        "outputId": "7ff321d8-f075-4c6a-c4eb-3000c9f46fee"
      },
      "execution_count": null,
      "outputs": [
        {
          "output_type": "stream",
          "name": "stdout",
          "text": [
            "Marcador 1: 12 , 12 (homocigoto)\n",
            "- Frecuencia del alelo: 0.4 \n",
            "- RMP = p² = 0.4 ² = 0.16 \n",
            "- 1 en 6 \n",
            "\n",
            "Marcador 2: 8 , 9 (heterocigoto)\n",
            "- Frecuencia del alelo 8 : 0.3 \n",
            "- Frecuencia del alelo 9 : 0.3 \n",
            "- RMP = 2pq = 2 × 0.3 × 0.3 = 0.18 \n",
            "- 1 en 6 \n",
            "\n",
            "Marcador 3: 16 , 17 (heterocigoto)\n",
            "- Frecuencia del alelo 16 : 0.4 \n",
            "- Frecuencia del alelo 17 : 0.2 \n",
            "- RMP = 2pq = 2 × 0.4 × 0.2 = 0.16 \n",
            "- 1 en 6 \n",
            "\n",
            "RMP combinada = RMP₁ × RMP₂ × RMP₃ = 0.16 × 0.18 × 0.16 = 0.004608 \n",
            "Expresado como 1 en 217 \n",
            "\n",
            "Con corrección theta = 0.03 :\n",
            "RMP combinada = 0.004530772 \n",
            "Expresado como 1 en 221 \n",
            "Factor de aumento por corrección theta: 0.98 veces\n"
          ]
        }
      ]
    },
    {
      "cell_type": "markdown",
      "source": [
        "## Ejercicio 2: El efecto de búsqueda en bases de datos\n",
        "\n",
        "Interpretar correctamente una coincidencia encontrada en una base de datos.\n"
      ],
      "metadata": {
        "id": "JWKKdV17ZaU8"
      }
    },
    {
      "cell_type": "code",
      "source": [
        "# Supongamos una coincidencia con RMP = 1 en 10 millones\n",
        "rmp <- 1e-7\n",
        "\n",
        "# ¿Cómo cambia la interpretación según el contexto?\n",
        "cat(\"Para un perfil con RMP = 1 en 10 millones (\", rmp, \"):\\n\\n\", sep=\"\")\n",
        "\n",
        "# Caso 1: Coincidencia dirigida (comparación con un sospechoso específico)\n",
        "cat(\"Caso 1: Coincidencia dirigida (comparación con un solo sospechoso)\\n\")\n",
        "cat(\"- Valor p =\", rmp, \"\\n\")\n",
        "cat(\"- Interpretación: La probabilidad de coincidencia por azar es 1 en 10 millones\\n\\n\")\n",
        "\n",
        "# Caso 2: Coincidencia en una base de datos de 10,000 personas\n",
        "tamano_bd <- 10000\n",
        "p_corregido <- min(rmp * tamano_bd, 1)\n",
        "cat(\"Caso 2: Coincidencia en una base de datos de\", format(tamano_bd, big.mark=\",\"), \"personas\\n\")\n",
        "cat(\"- Valor p corregido (Bonferroni) =\", p_corregido, \"\\n\")\n",
        "cat(\"- Interpretación: La probabilidad de coincidencia por azar es 1 en\", format(round(1/p_corregido), big.mark=\",\"), \"\\n\")\n",
        "cat(\"- Es\", tamano_bd, \"veces menos significativo que en el Caso 1\\n\\n\")\n",
        "\n",
        "# Caso 3: Coincidencia en una base de datos nacional de 10 millones\n",
        "tamano_bd_grande <- 10000000\n",
        "prob_coincidencia <- prob_coincidencia_bd(tamano_bd_grande, rmp)\n",
        "cat(\"Caso 3: Coincidencia en una base de datos nacional de\", format(tamano_bd_grande, big.mark=\",\"), \"personas\\n\")\n",
        "cat(\"- Probabilidad de al menos una coincidencia por azar:\", round(prob_coincidencia * 100, 2), \"%\\n\")\n",
        "cat(\"- Interpretación: Aunque el perfil es muy raro (1 en 10 millones),\")\n",
        "cat(\"\\n  la probabilidad de encontrar al menos una coincidencia por azar\")\n",
        "cat(\"\\n  en esta base de datos es alta (\", round(prob_coincidencia * 100, 2), \"%)\\n\", sep=\"\")\n"
      ],
      "metadata": {
        "colab": {
          "base_uri": "https://localhost:8080/"
        },
        "id": "tCqvMTmsZbpb",
        "outputId": "a6a0f051-03b3-4a84-c848-86937fdaec6a"
      },
      "execution_count": null,
      "outputs": [
        {
          "output_type": "stream",
          "name": "stdout",
          "text": [
            "Para un perfil con RMP = 1 en 10 millones (1e-07):\n",
            "\n",
            "Caso 1: Coincidencia dirigida (comparación con un solo sospechoso)\n",
            "- Valor p = 1e-07 \n",
            "- Interpretación: La probabilidad de coincidencia por azar es 1 en 10 millones\n",
            "\n",
            "Caso 2: Coincidencia en una base de datos de 10,000 personas\n",
            "- Valor p corregido (Bonferroni) = 0.001 \n",
            "- Interpretación: La probabilidad de coincidencia por azar es 1 en 1,000 \n",
            "- Es 10000 veces menos significativo que en el Caso 1\n",
            "\n",
            "Caso 3: Coincidencia en una base de datos nacional de 1e+07 personas\n",
            "- Probabilidad de al menos una coincidencia por azar: 100 %\n",
            "- Interpretación: Aunque el perfil es muy raro (1 en 10 millones),\n",
            "  la probabilidad de encontrar al menos una coincidencia por azar\n",
            "  en esta base de datos es alta (100%)\n"
          ]
        }
      ]
    },
    {
      "cell_type": "markdown",
      "source": [
        "## Ejercicio 3: Evaluación de búsqueda familiar\n",
        "\n",
        "Análisis de la búsqueda familiar y control de falsos positivos.\n"
      ],
      "metadata": {
        "id": "8OTUqa7YZeAv"
      }
    },
    {
      "cell_type": "code",
      "source": [
        "# Establecer un umbral óptimo para búsqueda familiar\n",
        "\n",
        "# Recapitulemos la distribución de alelos compartidos (de 20 posibles)\n",
        "# que ya simulamos anteriormente:\n",
        "#   - No relacionados: media ≈ 2 alelos (10%)\n",
        "#   - Primos hermanos: media ≈ 4.5 alelos (22.5%)\n",
        "#   - Hermanos: media ≈ 11 alelos (55%)\n",
        "\n",
        "# Vamos a calcular la sensibilidad y especificidad para diferentes umbrales\n",
        "umbrales <- 5:15\n",
        "\n",
        "# Calcular para cada umbral\n",
        "sensibilidad <- numeric(length(umbrales))  # % de hermanos detectados\n",
        "especificidad <- numeric(length(umbrales))  # % de no relacionados rechazados\n",
        "\n",
        "for (i in 1:length(umbrales)) {\n",
        "  umbral <- umbrales[i]\n",
        "  sensibilidad[i] <- mean(hermanos >= umbral) * 100\n",
        "  especificidad[i] <- mean(no_relacionados < umbral) * 100\n",
        "}\n",
        "\n",
        "# Mostrar resultados\n",
        "resultados <- data.frame(\n",
        "  Umbral = umbrales,\n",
        "  Sensibilidad = round(sensibilidad, 1),\n",
        "  Especificidad = round(especificidad, 1),\n",
        "  Falso_Positivo_Pct = round(100 - especificidad, 4)\n",
        ")\n",
        "\n",
        "cat(\"Balance entre sensibilidad y especificidad para diferentes umbrales:\\n\\n\")\n",
        "print(resultados)\n",
        "\n",
        "# Elegir umbral óptimo para una base de datos de 1 millón de perfiles\n",
        "tamano_bd <- 1000000\n",
        "\n",
        "# Calcular falsos positivos esperados para cada umbral\n",
        "fp_esperados <- tamano_bd * (100 - especificidad) / 100\n",
        "\n",
        "# Añadir al dataframe\n",
        "resultados$FP_Esperados <- round(fp_esperados)\n",
        "\n",
        "cat(\"\\nFalsos positivos esperados en una base de datos de\", format(tamano_bd, big.mark=\",\"), \"perfiles:\\n\\n\")\n",
        "print(resultados[, c(\"Umbral\", \"Falso_Positivo_Pct\", \"FP_Esperados\", \"Sensibilidad\")])\n",
        "\n",
        "# Encontrar un buen equilibrio\n",
        "idx_optimo <- which(resultados$FP_Esperados < 10 & resultados$Sensibilidad > 80)\n",
        "\n",
        "if (length(idx_optimo) > 0) {\n",
        "  umbral_optimo <- resultados$Umbral[min(idx_optimo)]\n",
        "\n",
        "  cat(\"\\nUmbral recomendado:\", umbral_optimo, \"alelos compartidos (de 20 posibles)\\n\")\n",
        "  cat(\"Con este umbral:\\n\")\n",
        "  cat(\"- Sensibilidad:\", resultados$Sensibilidad[resultados$Umbral == umbral_optimo],\n",
        "      \"% (porcentaje de hermanos detectados)\\n\")\n",
        "  cat(\"- Falsos positivos esperados:\", resultados$FP_Esperados[resultados$Umbral == umbral_optimo],\n",
        "      \"en una base de datos de 1 millón\\n\")\n",
        "  cat(\"- Tasa de falsos positivos:\", resultados$Falso_Positivo_Pct[resultados$Umbral == umbral_optimo], \"%\\n\")\n",
        "} else {\n",
        "  cat(\"\\nNo se encontró un umbral óptimo con los criterios especificados.\\n\")\n",
        "}\n",
        "\n",
        "cat(\"\\nConclusión: Incluso con un umbral estricto, esperaríamos varios falsos positivos\")\n",
        "cat(\"\\nen una base de datos grande, lo que requiere verificación adicional de cualquier\")\n",
        "cat(\"\\ncoincidencia familiar encontrada.\\n\")\n"
      ],
      "metadata": {
        "colab": {
          "base_uri": "https://localhost:8080/"
        },
        "id": "qp4UMJzkZfUa",
        "outputId": "8aed7bb2-1587-48e5-b3c8-2c99328697eb"
      },
      "execution_count": null,
      "outputs": [
        {
          "output_type": "stream",
          "name": "stdout",
          "text": [
            "Balance entre sensibilidad y especificidad para diferentes umbrales:\n",
            "\n",
            "   Umbral Sensibilidad Especificidad Falso_Positivo_Pct\n",
            "1       5         99.8          95.6                4.4\n",
            "2       6         99.2          98.8                1.2\n",
            "3       7         97.6          99.9                0.1\n",
            "4       8         93.9         100.0                0.0\n",
            "5       9         86.3         100.0                0.0\n",
            "6      10         75.0         100.0                0.0\n",
            "7      11         58.6         100.0                0.0\n",
            "8      12         42.1         100.0                0.0\n",
            "9      13         26.3         100.0                0.0\n",
            "10     14         12.6         100.0                0.0\n",
            "11     15          5.2         100.0                0.0\n",
            "\n",
            "Falsos positivos esperados en una base de datos de 1e+06 perfiles:\n",
            "\n",
            "   Umbral Falso_Positivo_Pct FP_Esperados Sensibilidad\n",
            "1       5                4.4        44000         99.8\n",
            "2       6                1.2        12000         99.2\n",
            "3       7                0.1         1000         97.6\n",
            "4       8                0.0            0         93.9\n",
            "5       9                0.0            0         86.3\n",
            "6      10                0.0            0         75.0\n",
            "7      11                0.0            0         58.6\n",
            "8      12                0.0            0         42.1\n",
            "9      13                0.0            0         26.3\n",
            "10     14                0.0            0         12.6\n",
            "11     15                0.0            0          5.2\n",
            "\n",
            "Umbral recomendado: 8 alelos compartidos (de 20 posibles)\n",
            "Con este umbral:\n",
            "- Sensibilidad: 93.9 % (porcentaje de hermanos detectados)\n",
            "- Falsos positivos esperados: 0 en una base de datos de 1 millón\n",
            "- Tasa de falsos positivos: 0 %\n",
            "\n",
            "Conclusión: Incluso con un umbral estricto, esperaríamos varios falsos positivos\n",
            "en una base de datos grande, lo que requiere verificación adicional de cualquier\n",
            "coincidencia familiar encontrada.\n"
          ]
        }
      ]
    },
    {
      "cell_type": "markdown",
      "source": [
        "# Referencias\n",
        "\n",
        "1. Butler, J. M. (2015). Advanced topics in forensic DNA typing: interpretation. Academic Press.\n",
        "\n",
        "2. Balding, D. J., & Nichols, R. A. (1994). DNA profile match probability calculation: how to allow for population stratification, relatedness, database selection and single bands. Forensic Science International, 64(2-3), 125-140.\n",
        "\n",
        "3. National Research Council. (1996). The Evaluation of Forensic DNA Evidence. National Academies Press.\n",
        "\n",
        "4. Buckleton, J., Bright, J. A., & Taylor, D. (2018). Forensic DNA evidence interpretation. CRC press.\n"
      ],
      "metadata": {
        "id": "rqp7ztQvZjPc"
      }
    }
  ]
}